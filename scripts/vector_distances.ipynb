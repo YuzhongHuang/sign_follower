{
 "cells": [
  {
   "cell_type": "code",
   "execution_count": 2,
   "metadata": {
    "collapsed": true
   },
   "outputs": [],
   "source": [
    "import numpy as np\n",
    "from scipy.spatial.distance import cdist"
   ]
  },
  {
   "cell_type": "code",
   "execution_count": 4,
   "metadata": {
    "collapsed": false
   },
   "outputs": [
    {
     "name": "stdout",
     "output_type": "stream",
     "text": [
      "(128,)\n",
      "(128,)\n"
     ]
    }
   ],
   "source": [
    "# this is a single descriptor in image 1\n",
    "descriptor_vector1 = np.random.rand(128)\n",
    "print descriptor_vector1.shape\n",
    "\n",
    "# this is a single descriptor in image 2\n",
    "descriptor_vector2 = np.random.rand(128)\n",
    "print descriptor_vector2.shape"
   ]
  },
  {
   "cell_type": "code",
   "execution_count": 7,
   "metadata": {
    "collapsed": false
   },
   "outputs": [
    {
     "name": "stdout",
     "output_type": "stream",
     "text": [
      "(1, 128)\n"
     ]
    }
   ],
   "source": [
    "# gotta reshape to make it work with cdist\n",
    "print descriptor_vector1.reshape(1, -1).shape"
   ]
  },
  {
   "cell_type": "code",
   "execution_count": 11,
   "metadata": {
    "collapsed": false
   },
   "outputs": [
    {
     "data": {
      "text/plain": [
       "array([[ 4.36995125]])"
      ]
     },
     "execution_count": 11,
     "metadata": {},
     "output_type": "execute_result"
    }
   ],
   "source": [
    "cdist(descriptor_vector1.reshape(1, -1),\n",
    "      descriptor_vector2.reshape(1, -1))"
   ]
  },
  {
   "cell_type": "code",
   "execution_count": 23,
   "metadata": {
    "collapsed": false
   },
   "outputs": [
    {
     "name": "stdout",
     "output_type": "stream",
     "text": [
      "(10, 128)\n",
      "(17, 128)\n",
      "(10, 17)\n",
      "Distance between vector 0 in des1 and vector 15 in des2 is 4.20963479533\n"
     ]
    }
   ],
   "source": [
    "# this is many descriptors in image 1\n",
    "des1 = np.random.rand(10, 128)\n",
    "print des1.shape\n",
    "\n",
    "# this is many descriptors in image 2\n",
    "des2 = np.random.rand(17, 128)\n",
    "print des2.shape\n",
    "\n",
    "# don't need to reshape because it's already a matrix\n",
    "distances = cdist(des1, des2)\n",
    "print distances.shape\n",
    "\n",
    "# closest vector in des2 to the 0th descriptor vector in des1\n",
    "i = 0\n",
    "closest_to_des1_vector0 = distances[i,:].argmin()\n",
    "print \"Distance between \\\n",
    "vector {} in des1 and vector {} in des2 is {}\".format(\n",
    "    i, closest_to_des1_vector0, distances[i, closest_to_des1_vector0]\n",
    ")"
   ]
  }
 ],
 "metadata": {
  "kernelspec": {
   "display_name": "Python 2",
   "language": "python",
   "name": "python2"
  },
  "language_info": {
   "codemirror_mode": {
    "name": "ipython",
    "version": 2
   },
   "file_extension": ".py",
   "mimetype": "text/x-python",
   "name": "python",
   "nbconvert_exporter": "python",
   "pygments_lexer": "ipython2",
   "version": "2.7.12"
  }
 },
 "nbformat": 4,
 "nbformat_minor": 2
}
